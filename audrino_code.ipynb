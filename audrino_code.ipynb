{
 "cells": [
  {
   "cell_type": "code",
   "execution_count": 1,
   "id": "19c60eb7",
   "metadata": {},
   "outputs": [],
   "source": [
    "from pyfirmata import Arduino, SERVO, util\n",
    "import time"
   ]
  },
  {
   "cell_type": "code",
   "execution_count": 2,
   "id": "530ca3e9",
   "metadata": {
    "collapsed": true
   },
   "outputs": [
    {
     "ename": "AttributeError",
     "evalue": "module 'inspect' has no attribute 'getargspec'",
     "output_type": "error",
     "traceback": [
      "\u001b[1;31m---------------------------------------------------------------------------\u001b[0m",
      "\u001b[1;31mAttributeError\u001b[0m                            Traceback (most recent call last)",
      "Cell \u001b[1;32mIn[2], line 3\u001b[0m\n\u001b[0;32m      1\u001b[0m port \u001b[38;5;241m=\u001b[39m \u001b[38;5;124m'\u001b[39m\u001b[38;5;124mCOM4\u001b[39m\u001b[38;5;124m'\u001b[39m\n\u001b[0;32m      2\u001b[0m pin \u001b[38;5;241m=\u001b[39m \u001b[38;5;241m5\u001b[39m\n\u001b[1;32m----> 3\u001b[0m board \u001b[38;5;241m=\u001b[39m Arduino(port)\n",
      "File \u001b[1;32m~\\anaconda3\\Lib\\site-packages\\pyfirmata\\__init__.py:19\u001b[0m, in \u001b[0;36mArduino.__init__\u001b[1;34m(self, *args, **kwargs)\u001b[0m\n\u001b[0;32m     17\u001b[0m args \u001b[38;5;241m=\u001b[39m \u001b[38;5;28mlist\u001b[39m(args)\n\u001b[0;32m     18\u001b[0m args\u001b[38;5;241m.\u001b[39mappend(BOARDS[\u001b[38;5;124m'\u001b[39m\u001b[38;5;124marduino\u001b[39m\u001b[38;5;124m'\u001b[39m])\n\u001b[1;32m---> 19\u001b[0m \u001b[38;5;28msuper\u001b[39m(Arduino, \u001b[38;5;28mself\u001b[39m)\u001b[38;5;241m.\u001b[39m\u001b[38;5;21m__init__\u001b[39m(\u001b[38;5;241m*\u001b[39margs, \u001b[38;5;241m*\u001b[39m\u001b[38;5;241m*\u001b[39mkwargs)\n",
      "File \u001b[1;32m~\\anaconda3\\Lib\\site-packages\\pyfirmata\\pyfirmata.py:101\u001b[0m, in \u001b[0;36mBoard.__init__\u001b[1;34m(self, port, layout, baudrate, name, timeout)\u001b[0m\n\u001b[0;32m     98\u001b[0m     \u001b[38;5;28mself\u001b[39m\u001b[38;5;241m.\u001b[39mname \u001b[38;5;241m=\u001b[39m port\n\u001b[0;32m    100\u001b[0m \u001b[38;5;28;01mif\u001b[39;00m layout:\n\u001b[1;32m--> 101\u001b[0m     \u001b[38;5;28mself\u001b[39m\u001b[38;5;241m.\u001b[39msetup_layout(layout)\n\u001b[0;32m    102\u001b[0m \u001b[38;5;28;01melse\u001b[39;00m:\n\u001b[0;32m    103\u001b[0m     \u001b[38;5;28mself\u001b[39m\u001b[38;5;241m.\u001b[39mauto_setup()\n",
      "File \u001b[1;32m~\\anaconda3\\Lib\\site-packages\\pyfirmata\\pyfirmata.py:157\u001b[0m, in \u001b[0;36mBoard.setup_layout\u001b[1;34m(self, board_layout)\u001b[0m\n\u001b[0;32m    153\u001b[0m \u001b[38;5;66;03m# Create a dictionary of 'taken' pins. Used by the get_pin method\u001b[39;00m\n\u001b[0;32m    154\u001b[0m \u001b[38;5;28mself\u001b[39m\u001b[38;5;241m.\u001b[39mtaken \u001b[38;5;241m=\u001b[39m {\u001b[38;5;124m'\u001b[39m\u001b[38;5;124manalog\u001b[39m\u001b[38;5;124m'\u001b[39m: \u001b[38;5;28mdict\u001b[39m(\u001b[38;5;28mmap\u001b[39m(\u001b[38;5;28;01mlambda\u001b[39;00m p: (p\u001b[38;5;241m.\u001b[39mpin_number, \u001b[38;5;28;01mFalse\u001b[39;00m), \u001b[38;5;28mself\u001b[39m\u001b[38;5;241m.\u001b[39manalog)),\n\u001b[0;32m    155\u001b[0m               \u001b[38;5;124m'\u001b[39m\u001b[38;5;124mdigital\u001b[39m\u001b[38;5;124m'\u001b[39m: \u001b[38;5;28mdict\u001b[39m(\u001b[38;5;28mmap\u001b[39m(\u001b[38;5;28;01mlambda\u001b[39;00m p: (p\u001b[38;5;241m.\u001b[39mpin_number, \u001b[38;5;28;01mFalse\u001b[39;00m), \u001b[38;5;28mself\u001b[39m\u001b[38;5;241m.\u001b[39mdigital))}\n\u001b[1;32m--> 157\u001b[0m \u001b[38;5;28mself\u001b[39m\u001b[38;5;241m.\u001b[39m_set_default_handlers()\n",
      "File \u001b[1;32m~\\anaconda3\\Lib\\site-packages\\pyfirmata\\pyfirmata.py:161\u001b[0m, in \u001b[0;36mBoard._set_default_handlers\u001b[1;34m(self)\u001b[0m\n\u001b[0;32m    159\u001b[0m \u001b[38;5;28;01mdef\u001b[39;00m \u001b[38;5;21m_set_default_handlers\u001b[39m(\u001b[38;5;28mself\u001b[39m):\n\u001b[0;32m    160\u001b[0m     \u001b[38;5;66;03m# Setup default handlers for standard incoming commands\u001b[39;00m\n\u001b[1;32m--> 161\u001b[0m     \u001b[38;5;28mself\u001b[39m\u001b[38;5;241m.\u001b[39madd_cmd_handler(ANALOG_MESSAGE, \u001b[38;5;28mself\u001b[39m\u001b[38;5;241m.\u001b[39m_handle_analog_message)\n\u001b[0;32m    162\u001b[0m     \u001b[38;5;28mself\u001b[39m\u001b[38;5;241m.\u001b[39madd_cmd_handler(DIGITAL_MESSAGE, \u001b[38;5;28mself\u001b[39m\u001b[38;5;241m.\u001b[39m_handle_digital_message)\n\u001b[0;32m    163\u001b[0m     \u001b[38;5;28mself\u001b[39m\u001b[38;5;241m.\u001b[39madd_cmd_handler(REPORT_VERSION, \u001b[38;5;28mself\u001b[39m\u001b[38;5;241m.\u001b[39m_handle_report_version)\n",
      "File \u001b[1;32m~\\anaconda3\\Lib\\site-packages\\pyfirmata\\pyfirmata.py:185\u001b[0m, in \u001b[0;36mBoard.add_cmd_handler\u001b[1;34m(self, cmd, func)\u001b[0m\n\u001b[0;32m    183\u001b[0m \u001b[38;5;28;01mdef\u001b[39;00m \u001b[38;5;21madd_cmd_handler\u001b[39m(\u001b[38;5;28mself\u001b[39m, cmd, func):\n\u001b[0;32m    184\u001b[0m \u001b[38;5;250m    \u001b[39m\u001b[38;5;124;03m\"\"\"Adds a command handler for a command.\"\"\"\u001b[39;00m\n\u001b[1;32m--> 185\u001b[0m     len_args \u001b[38;5;241m=\u001b[39m \u001b[38;5;28mlen\u001b[39m(inspect\u001b[38;5;241m.\u001b[39mgetargspec(func)[\u001b[38;5;241m0\u001b[39m])\n\u001b[0;32m    187\u001b[0m     \u001b[38;5;28;01mdef\u001b[39;00m \u001b[38;5;21madd_meta\u001b[39m(f):\n\u001b[0;32m    188\u001b[0m         \u001b[38;5;28;01mdef\u001b[39;00m \u001b[38;5;21mdecorator\u001b[39m(\u001b[38;5;241m*\u001b[39margs, \u001b[38;5;241m*\u001b[39m\u001b[38;5;241m*\u001b[39mkwargs):\n",
      "\u001b[1;31mAttributeError\u001b[0m: module 'inspect' has no attribute 'getargspec'"
     ]
    }
   ],
   "source": [
    "port = 'COM5'\n",
    "pin = 5\n",
    "board = Arduino(port)"
   ]
  },
  {
   "cell_type": "code",
   "execution_count": null,
   "id": "2152413f",
   "metadata": {},
   "outputs": [],
   "source": [
    "board.digital[pin].mode = SERVO"
   ]
  },
  {
   "cell_type": "code",
   "execution_count": null,
   "id": "1810e1c0",
   "metadata": {},
   "outputs": [],
   "source": [
    "def rotateservo(pin, angle):\n",
    "    board.digital[pin].write(angle)\n",
    "    sleep(0.015)"
   ]
  },
  {
   "cell_type": "code",
   "execution_count": null,
   "id": "f5202dd3",
   "metadata": {},
   "outputs": [],
   "source": [
    "while True:\n",
    "    x = input('input:')\n",
    "    if x=='1':\n",
    "        for i in range(0,180):\n",
    "            rotateservo(pin,i)"
   ]
  },
  {
   "cell_type": "code",
   "execution_count": null,
   "id": "6d19d4ef",
   "metadata": {},
   "outputs": [],
   "source": []
  }
 ],
 "metadata": {
  "kernelspec": {
   "display_name": "Python 3 (ipykernel)",
   "language": "python",
   "name": "python3"
  },
  "language_info": {
   "codemirror_mode": {
    "name": "ipython",
    "version": 3
   },
   "file_extension": ".py",
   "mimetype": "text/x-python",
   "name": "python",
   "nbconvert_exporter": "python",
   "pygments_lexer": "ipython3",
   "version": "3.11.5"
  }
 },
 "nbformat": 4,
 "nbformat_minor": 5
}
